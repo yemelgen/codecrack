{
 "cells": [
  {
   "cell_type": "markdown",
   "id": "b6444d35-9b68-4d99-9ed7-c95bdb739467",
   "metadata": {},
   "source": [
    "# Mean-Variance-Standard Deviation Calculator\n",
    "This is my solution for the Mean-Variance-Standard Deviation Calculator project from FreeCodeCamp. Instructions for this project can be found [here](https://www.freecodecamp.org/learn/data-analysis-with-python/data-analysis-with-python-projects/mean-variance-standard-deviation-calculator).\n",
    "\n",
    "## Introduction\n",
    "Reuploaded from Replit to GitHub and converted to Jupyter Notebook for easier access\n",
    "\n",
    "The original upload on Replit with my previous attempts can be found [here](https://replit.com/@yemelgen/boilerplate-mean-variance-standard-deviation-calculator).\n"
   ]
  },
  {
   "cell_type": "code",
   "execution_count": 1,
   "id": "ffa4dd5a-b8ce-4344-a3b4-5af445f8f9a2",
   "metadata": {},
   "outputs": [],
   "source": [
    "# The solution code wrapped in a class\n",
    "import numpy as np\n",
    "\n",
    "class MeanVarStd:\n",
    "    def calculate( self, nums: list[int] ) -> dict:\n",
    "        if 9 != len(nums):\n",
    "            raise ValueError('List must contain nine numbers.')\n",
    "        result = {}\n",
    "        methods = {\n",
    "            'mean': np.mean,\n",
    "            'variance': np.var,\n",
    "            'standard deviation': np.std,\n",
    "            'max': np.max,\n",
    "            'min': np.min,\n",
    "            'sum': np.sum,\n",
    "        }\n",
    "        a = np.array(nums).reshape(3, 3)\n",
    "        for name, func in methods.items():\n",
    "            result[name] = [ \n",
    "                func(a, axis=0).tolist(),\n",
    "                func(a, axis=1).tolist(),\n",
    "                func(a),\n",
    "            ]\n",
    "        return result\n",
    "mean_var_std = MeanVarStd()"
   ]
  },
  {
   "cell_type": "code",
   "execution_count": 2,
   "id": "6d37b646-9e3a-4943-97f5-d34298e054e5",
   "metadata": {},
   "outputs": [],
   "source": [
    "# NOTE: Copied from test_module\n",
    "import unittest\n",
    "\n",
    "# the test case\n",
    "class UnitTests(unittest.TestCase):\n",
    "    def test_calculate(self):\n",
    "        actual = mean_var_std.calculate([2,6,2,8,4,0,1,5,7])\n",
    "        expected = {'mean': [[3.6666666666666665, 5.0, 3.0], [3.3333333333333335, 4.0, 4.333333333333333], 3.888888888888889], 'variance': [[9.555555555555557, 0.6666666666666666, 8.666666666666666], [3.555555555555556, 10.666666666666666, 6.222222222222221], 6.987654320987654], 'standard deviation': [[3.091206165165235, 0.816496580927726, 2.943920288775949], [1.8856180831641267, 3.265986323710904, 2.494438257849294], 2.6434171674156266], 'max': [[8, 6, 7], [6, 8, 7], 8], 'min': [[1, 4, 0], [2, 0, 1], 0], 'sum': [[11, 15, 9], [10, 12, 13], 35]}\n",
    "        self.assertAlmostEqual(actual, expected, \"Expected different output when calling 'calculate()' with '[2,6,2,8,4,0,1,5,7]'\")\n",
    "\n",
    "    def test_calculate2(self):\n",
    "        actual = mean_var_std.calculate([9,1,5,3,3,3,2,9,0])\n",
    "        expected = {'mean': [[4.666666666666667, 4.333333333333333, 2.6666666666666665], [5.0, 3.0, 3.6666666666666665], 3.888888888888889], 'variance': [[9.555555555555555, 11.555555555555557, 4.222222222222222], [10.666666666666666, 0.0, 14.888888888888891], 9.209876543209875], 'standard deviation': [[3.0912061651652345, 3.39934634239519, 2.0548046676563256], [3.265986323710904, 0.0, 3.8586123009300755], 3.0347778408328137], 'max': [[9, 9, 5], [9, 3, 9], 9], 'min': [[2, 1, 0], [1, 3, 0], 0], 'sum': [[14, 13, 8], [15, 9, 11], 35]}\n",
    "        self.assertAlmostEqual(actual, expected, \"Expected different output when calling 'calculate()' with '[9,1,5,3,3,3,2,9,0]'\")\n",
    "    \n",
    "    def test_calculate_with_few_digits(self):\n",
    "        self.assertRaisesRegex(ValueError, \"List must contain nine numbers.\", mean_var_std.calculate, [2,6,2,8,4,0,1,])\n"
   ]
  },
  {
   "cell_type": "code",
   "execution_count": 3,
   "id": "8f6b538b-c302-4e31-b403-261e2d933306",
   "metadata": {},
   "outputs": [
    {
     "name": "stderr",
     "output_type": "stream",
     "text": [
      "...\n",
      "----------------------------------------------------------------------\n",
      "Ran 3 tests in 0.017s\n",
      "\n",
      "OK\n"
     ]
    },
    {
     "name": "stdout",
     "output_type": "stream",
     "text": [
      "{'mean': [[3.0, 4.0, 5.0], [1.0, 4.0, 7.0], 4.0], 'variance': [[6.0, 6.0, 6.0], [0.6666666666666666, 0.6666666666666666, 0.6666666666666666], 6.666666666666667], 'standard deviation': [[2.449489742783178, 2.449489742783178, 2.449489742783178], [0.816496580927726, 0.816496580927726, 0.816496580927726], 2.581988897471611], 'max': [[6, 7, 8], [2, 5, 8], 8], 'min': [[0, 1, 2], [0, 3, 6], 0], 'sum': [[9, 12, 15], [3, 12, 21], 36]}\n"
     ]
    },
    {
     "data": {
      "text/plain": [
       "<unittest.main.TestProgram at 0x7f85e80a3590>"
      ]
     },
     "execution_count": 3,
     "metadata": {},
     "output_type": "execute_result"
    }
   ],
   "source": [
    "# NOTE: Copied from main.py\n",
    "# This entrypoint file to be used in development. Start by reading README.md\n",
    "from unittest import main\n",
    "\n",
    "print(mean_var_std.calculate([0,1,2,3,4,5,6,7,8]))\n",
    "\n",
    "# Run unit tests automatically\n",
    "unittest.main(argv=[''], exit=False)"
   ]
  },
  {
   "cell_type": "code",
   "execution_count": null,
   "id": "0b5d00d3-c578-4bac-85c1-3a7b3a099b5a",
   "metadata": {},
   "outputs": [],
   "source": []
  }
 ],
 "metadata": {
  "kernelspec": {
   "display_name": "Python 3 (ipykernel)",
   "language": "python",
   "name": "python3"
  },
  "language_info": {
   "codemirror_mode": {
    "name": "ipython",
    "version": 3
   },
   "file_extension": ".py",
   "mimetype": "text/x-python",
   "name": "python",
   "nbconvert_exporter": "python",
   "pygments_lexer": "ipython3",
   "version": "3.11.2"
  }
 },
 "nbformat": 4,
 "nbformat_minor": 5
}
