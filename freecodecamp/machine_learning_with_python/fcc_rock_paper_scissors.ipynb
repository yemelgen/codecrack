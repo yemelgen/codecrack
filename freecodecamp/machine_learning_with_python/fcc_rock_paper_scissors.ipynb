{
 "cells": [
  {
   "cell_type": "markdown",
   "metadata": {
    "id": "uXzjwIwgxHBW"
   },
   "source": [
    "# Rock Paper Scissors\n",
    "This is my solution for the Rock Paper Scissors project from FreeCodeCamp. Instructions for this project can be found [here](https://www.freecodecamp.org/learn/machine-learning-with-python/machine-learning-with-python-projects/rock-paper-scissors).\n",
    "\n",
    "## Introduction\n",
    "It took me a while to crack it up. After exploring several different approaches, I found that Markov chains provided the best solution.\n",
    "\n",
    "With the solution code, I also copied all the challenge test code into separated cells.\n",
    "\n",
    "The original upload on Replit with my previous attempts can be found [here](https://replit.com/@yemelgen/boilerplate-rock-paper-scissors)."
   ]
  },
  {
   "cell_type": "code",
   "execution_count": 1,
   "metadata": {
    "executionInfo": {
     "elapsed": 15,
     "status": "ok",
     "timestamp": 1692432904289,
     "user": {
      "displayName": "Eugene Emelyanov (yemel)",
      "userId": "15307913813243875076"
     },
     "user_tz": -120
    },
    "id": "TWxxKpg9z8vj"
   },
   "outputs": [],
   "source": [
    "import numpy as np\n",
    "\n",
    "# Possible plays (moves)\n",
    "plays = ('R', 'P', 'S')\n",
    "\n",
    "# Possible combinations of plays (outcomes)\n",
    "outcomes = ('RR', 'RP', 'RS', 'PR', 'PP', 'PS', 'SR', 'SP', 'SS' )\n",
    "\n",
    "# Trainsition matrix\n",
    "transitions = np.ones( (9, 3) )\n",
    "\n",
    "# Best play based on the current guess\n",
    "best_play = lambda x: (x + 1) % 3\n",
    "\n",
    "def player( prev_play, history=[] ):\n",
    "    global transitions\n",
    "    guess = np.random.choice( (0, 1, 2) ) # random prediciton\n",
    "\n",
    "    if not prev_play or not history:\n",
    "      history.clear()\n",
    "      next_play = plays[ best_play(guess) ]\n",
    "      history.append( [next_play] )\n",
    "      return next_play\n",
    "    history[-1].append( prev_play )\n",
    "    if len(history) >= 2:\n",
    "      # Create indices of the last and previous outcomes\n",
    "      last_outcome = outcomes.index( history[-1][0] + history[-1][1] )\n",
    "      prev_outcome = outcomes.index( history[-2][0] + history[-2][1] )\n",
    "\n",
    "      # Update the transition matrix by decaying earlier observations and incrementing the count of the previous play\n",
    "      transitions[ prev_outcome ] *= 0.8 # decay rate\n",
    "      transitions[ prev_outcome, plays.index(prev_play) ] += 1\n",
    "\n",
    "      # Check if the values in the transition matrix of the last outcome are not equal\n",
    "      if np.ptp( transitions[last_outcome] ) != 0:\n",
    "        # Find the play with the highest value in the transition matrix for the last outcome\n",
    "        guess = np.argmax( transitions[last_outcome] )\n",
    "    next_play = plays[ best_play(guess) ]\n",
    "    history.append( [next_play] )\n",
    "\n",
    "    return next_play"
   ]
  },
  {
   "cell_type": "code",
   "execution_count": 2,
   "metadata": {
    "executionInfo": {
     "elapsed": 577,
     "status": "ok",
     "timestamp": 1692432944373,
     "user": {
      "displayName": "Eugene Emelyanov (yemel)",
      "userId": "15307913813243875076"
     },
     "user_tz": -120
    },
    "id": "4TSETPpvbEV9"
   },
   "outputs": [],
   "source": [
    "# NOTE: Copied from RPS_Game.py. \n",
    "# DO NOT MODIFY THIS CELL\n",
    "import random\n",
    "\n",
    "def play(player1, player2, num_games, verbose=False):\n",
    "    p1_prev_play = \"\"\n",
    "    p2_prev_play = \"\"\n",
    "    results = {\"p1\": 0, \"p2\": 0, \"tie\": 0}\n",
    "\n",
    "    for _ in range(num_games):\n",
    "        p1_play = player1(p2_prev_play)\n",
    "        p2_play = player2(p1_prev_play)\n",
    "\n",
    "        if p1_play == p2_play:\n",
    "            results[\"tie\"] += 1\n",
    "            winner = \"Tie.\"\n",
    "        elif (p1_play == \"P\" and p2_play == \"R\") or (\n",
    "                p1_play == \"R\" and p2_play == \"S\") or (p1_play == \"S\"\n",
    "                                                       and p2_play == \"P\"):\n",
    "            results[\"p1\"] += 1\n",
    "            winner = \"Player 1 wins.\"\n",
    "        elif p2_play == \"P\" and p1_play == \"R\" or p2_play == \"R\" and p1_play == \"S\" or p2_play == \"S\" and p1_play == \"P\":\n",
    "            results[\"p2\"] += 1\n",
    "            winner = \"Player 2 wins.\"\n",
    "\n",
    "        if verbose:\n",
    "            print(\"Player 1:\", p1_play, \"| Player 2:\", p2_play)\n",
    "            print(winner)\n",
    "            print()\n",
    "\n",
    "        p1_prev_play = p1_play\n",
    "        p2_prev_play = p2_play\n",
    "\n",
    "    games_won = results['p2'] + results['p1']\n",
    "\n",
    "    if games_won == 0:\n",
    "        win_rate = 0\n",
    "    else:\n",
    "        win_rate = results['p1'] / games_won * 100\n",
    "\n",
    "    print(\"Final results:\", results)\n",
    "    print(f\"Player 1 win rate: {win_rate}%\")\n",
    "\n",
    "    return (win_rate)\n",
    "\n",
    "\n",
    "def quincy(prev_play, counter=[0]):\n",
    "\n",
    "    counter[0] += 1\n",
    "    choices = [\"R\", \"R\", \"P\", \"P\", \"S\"]\n",
    "    return choices[counter[0] % len(choices)]\n",
    "\n",
    "\n",
    "def mrugesh(prev_opponent_play, opponent_history=[]):\n",
    "    opponent_history.append(prev_opponent_play)\n",
    "    last_ten = opponent_history[-10:]\n",
    "    most_frequent = max(set(last_ten), key=last_ten.count)\n",
    "\n",
    "    if most_frequent == '':\n",
    "        most_frequent = \"S\"\n",
    "\n",
    "    ideal_response = {'P': 'S', 'R': 'P', 'S': 'R'}\n",
    "    return ideal_response[most_frequent]\n",
    "\n",
    "\n",
    "def kris(prev_opponent_play):\n",
    "    if prev_opponent_play == '':\n",
    "        prev_opponent_play = \"R\"\n",
    "    ideal_response = {'P': 'S', 'R': 'P', 'S': 'R'}\n",
    "    return ideal_response[prev_opponent_play]\n",
    "\n",
    "\n",
    "def abbey(prev_opponent_play,\n",
    "          opponent_history=[],\n",
    "          play_order=[{\n",
    "              \"RR\": 0,\n",
    "              \"RP\": 0,\n",
    "              \"RS\": 0,\n",
    "              \"PR\": 0,\n",
    "              \"PP\": 0,\n",
    "              \"PS\": 0,\n",
    "              \"SR\": 0,\n",
    "              \"SP\": 0,\n",
    "              \"SS\": 0,\n",
    "          }]):\n",
    "\n",
    "    if not prev_opponent_play:\n",
    "        prev_opponent_play = 'R'\n",
    "    opponent_history.append(prev_opponent_play)\n",
    "\n",
    "    last_two = \"\".join(opponent_history[-2:])\n",
    "    if len(last_two) == 2:\n",
    "        play_order[0][last_two] += 1\n",
    "\n",
    "    potential_plays = [\n",
    "        prev_opponent_play + \"R\",\n",
    "        prev_opponent_play + \"P\",\n",
    "        prev_opponent_play + \"S\",\n",
    "    ]\n",
    "\n",
    "    sub_order = {\n",
    "        k: play_order[0][k]\n",
    "        for k in potential_plays if k in play_order[0]\n",
    "    }\n",
    "\n",
    "    prediction = max(sub_order, key=sub_order.get)[-1:]\n",
    "\n",
    "    ideal_response = {'P': 'S', 'R': 'P', 'S': 'R'}\n",
    "    return ideal_response[prediction]\n",
    "\n",
    "\n",
    "def human(prev_opponent_play):\n",
    "    play = \"\"\n",
    "    while play not in ['R', 'P', 'S']:\n",
    "        play = input(\"[R]ock, [P]aper, [S]cissors? \")\n",
    "        print(play)\n",
    "    return play\n",
    "\n",
    "\n",
    "def random_player(prev_opponent_play):\n",
    "    return random.choice(['R', 'P', 'S'])"
   ]
  },
  {
   "cell_type": "code",
   "execution_count": 3,
   "metadata": {
    "colab": {
     "base_uri": "https://localhost:8080/"
    },
    "executionInfo": {
     "elapsed": 589,
     "status": "ok",
     "timestamp": 1692432951737,
     "user": {
      "displayName": "Eugene Emelyanov (yemel)",
      "userId": "15307913813243875076"
     },
     "user_tz": -120
    },
    "id": "YmjUN_eXzj1d",
    "outputId": "154d0927-3842-49d0-edde-815cac5eb85a"
   },
   "outputs": [
    {
     "name": "stdout",
     "output_type": "stream",
     "text": [
      "\n"
     ]
    }
   ],
   "source": [
    "# NOTE: Copied from test_module.py\n",
    "import unittest\n",
    "\n",
    "class UnitTests(unittest.TestCase):\n",
    "    print()\n",
    "\n",
    "    def test_player_vs_quincy(self):\n",
    "        print(\"Testing game against quincy...\")\n",
    "        actual = play(player, quincy, 1000) >= 60\n",
    "        self.assertTrue(\n",
    "            actual,\n",
    "            'Expected player to defeat quincy at least 60% of the time.')\n",
    "\n",
    "    def test_player_vs_abbey(self):\n",
    "        print(\"Testing game against abbey...\")\n",
    "        actual = play(player, abbey, 1000) >= 60\n",
    "        self.assertTrue(\n",
    "            actual,\n",
    "            'Expected player to defeat abbey at least 60% of the time.')\n",
    "\n",
    "    def test_player_vs_kris(self):\n",
    "        print(\"Testing game against kris...\")\n",
    "        actual = play(player, kris, 1000) >= 60\n",
    "        self.assertTrue(\n",
    "            actual, 'Expected player to defeat kris at least 60% of the time.')\n",
    "\n",
    "    def test_player_vs_mrugesh(self):\n",
    "        print(\"Testing game against mrugesh...\")\n",
    "        actual = play(player, mrugesh, 1000) >= 60\n",
    "        self.assertTrue(\n",
    "            actual,\n",
    "            'Expected player to defeat mrugesh at least 60% of the time.')"
   ]
  },
  {
   "cell_type": "code",
   "execution_count": 4,
   "metadata": {
    "colab": {
     "base_uri": "https://localhost:8080/"
    },
    "executionInfo": {
     "elapsed": 1221,
     "status": "ok",
     "timestamp": 1692432957585,
     "user": {
      "displayName": "Eugene Emelyanov (yemel)",
      "userId": "15307913813243875076"
     },
     "user_tz": -120
    },
    "id": "w89zb-6RbeI6",
    "outputId": "1a96a4db-0709-4861-8bac-2cb6ae515bdb"
   },
   "outputs": [
    {
     "name": "stderr",
     "output_type": "stream",
     "text": [
      "test_player_vs_abbey (__main__.UnitTests) ... ok\n",
      "test_player_vs_kris (__main__.UnitTests) ... "
     ]
    },
    {
     "name": "stdout",
     "output_type": "stream",
     "text": [
      "Final results: {'p1': 744, 'p2': 101, 'tie': 155}\n",
      "Player 1 win rate: 88.04733727810651%\n",
      "Final results: {'p1': 652, 'p2': 315, 'tie': 33}\n",
      "Player 1 win rate: 67.42502585315408%\n",
      "Final results: {'p1': 992, 'p2': 6, 'tie': 2}\n",
      "Player 1 win rate: 99.39879759519037%\n",
      "Final results: {'p1': 817, 'p2': 154, 'tie': 29}\n",
      "Player 1 win rate: 84.14006179196704%\n",
      "Testing game against abbey...\n",
      "Final results: {'p1': 674, 'p2': 319, 'tie': 7}\n",
      "Player 1 win rate: 67.87512588116817%\n",
      "Testing game against kris...\n"
     ]
    },
    {
     "name": "stderr",
     "output_type": "stream",
     "text": [
      "ok\n",
      "test_player_vs_mrugesh (__main__.UnitTests) ... ok\n",
      "test_player_vs_quincy (__main__.UnitTests) ... ok\n",
      "\n",
      "----------------------------------------------------------------------\n",
      "Ran 4 tests in 0.270s\n",
      "\n",
      "OK\n"
     ]
    },
    {
     "name": "stdout",
     "output_type": "stream",
     "text": [
      "Final results: {'p1': 986, 'p2': 7, 'tie': 7}\n",
      "Player 1 win rate: 99.29506545820746%\n",
      "Testing game against mrugesh...\n",
      "Final results: {'p1': 826, 'p2': 153, 'tie': 21}\n",
      "Player 1 win rate: 84.37180796731359%\n",
      "Testing game against quincy...\n",
      "Final results: {'p1': 734, 'p2': 103, 'tie': 163}\n",
      "Player 1 win rate: 87.69414575866189%\n"
     ]
    },
    {
     "data": {
      "text/plain": [
       "<unittest.main.TestProgram at 0x7effeecb0c40>"
      ]
     },
     "execution_count": 4,
     "metadata": {},
     "output_type": "execute_result"
    }
   ],
   "source": [
    "# NOTE: Copied from main.py\n",
    "play(player, quincy, 1000)\n",
    "play(player, abbey, 1000)\n",
    "play(player, kris, 1000)\n",
    "play(player, mrugesh, 1000)\n",
    "unittest.main(argv=[''], verbosity=2, exit=False)"
   ]
  }
 ],
 "metadata": {
  "colab": {
   "authorship_tag": "ABX9TyOZquYjxBMjqN8tgln1GVOJ",
   "provenance": []
  },
  "kernelspec": {
   "display_name": "Python 3 (ipykernel)",
   "language": "python",
   "name": "python3"
  },
  "language_info": {
   "codemirror_mode": {
    "name": "ipython",
    "version": 3
   },
   "file_extension": ".py",
   "mimetype": "text/x-python",
   "name": "python",
   "nbconvert_exporter": "python",
   "pygments_lexer": "ipython3",
   "version": "3.11.2"
  }
 },
 "nbformat": 4,
 "nbformat_minor": 4
}
