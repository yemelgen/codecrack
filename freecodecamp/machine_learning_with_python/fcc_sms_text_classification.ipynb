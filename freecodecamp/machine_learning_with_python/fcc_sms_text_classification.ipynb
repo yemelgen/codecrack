{
 "cells": [
  {
   "cell_type": "markdown",
   "metadata": {
    "id": "cWNk_oMDq_0h"
   },
   "source": [
    "# Neural Network SMS Text Classifier\n",
    "\n",
    "This is my solution for the Neural Network SMS Text Classifier project from FreeCodeCamp. Instructions for this project can be found [here](https://www.freecodecamp.org/learn/machine-learning-with-python/machine-learning-with-python-projects/neural-network-sms-text-classifier).\n",
    "\n",
    "## Introduction\n",
    "For this project, I am going to use PyTorch instead of TensorFlow.\n",
    "The reason is that it's more relevant for me to learn.\n",
    "Learning a new framework is challenging enough on its own, so to simplify the task, the Recurrent Neural Network (RNN) model with LSTM unit will be used.\n",
    "\n",
    "Although the data has already been prepared for us, we will begin with a bit of EDA (Explorary Data Analysis). Then, we set up the necessary components: a tokenizer, data preprocessing steps, and the LSTM-based model. Our approach includes employing cross-validation to optimize hyperparameters for effective training."
   ]
  },
  {
   "cell_type": "code",
   "execution_count": null,
   "metadata": {
    "id": "8RZOuS9LWQvv"
   },
   "outputs": [],
   "source": [
    "# import libraries\n",
    "import pandas as pd\n",
    "import numpy as np\n",
    "import matplotlib.pyplot as plt\n",
    "import torch\n",
    "import torch.nn as nn\n",
    "import torch.optim as optim\n",
    "from torch.utils.data import Dataset, DataLoader, Subset\n",
    "from torch.nn.utils.rnn import pad_sequence\n",
    "from torchtext.data.utils import get_tokenizer\n",
    "from torchtext.vocab import build_vocab_from_iterator\n",
    "from sklearn.model_selection import KFold\n",
    "from sklearn.metrics import accuracy_score, precision_score, recall_score, f1_score"
   ]
  },
  {
   "cell_type": "code",
   "execution_count": null,
   "metadata": {
    "colab": {
     "base_uri": "https://localhost:8080/"
    },
    "executionInfo": {
     "elapsed": 421,
     "status": "ok",
     "timestamp": 1692428189864,
     "user": {
      "displayName": "Eugene Emelyanov (yemel)",
      "userId": "15307913813243875076"
     },
     "user_tz": -120
    },
    "id": "lMHwYXHXCar3",
    "outputId": "763a42d1-29c1-45a2-c037-0ddbcac18af7"
   },
   "outputs": [
    {
     "name": "stdout",
     "output_type": "stream",
     "text": [
      "--2023-08-19 06:56:28--  https://cdn.freecodecamp.org/project-data/sms/train-data.tsv\n",
      "Resolving cdn.freecodecamp.org (cdn.freecodecamp.org)... 104.26.2.33, 104.26.3.33, 172.67.70.149, ...\n",
      "Connecting to cdn.freecodecamp.org (cdn.freecodecamp.org)|104.26.2.33|:443... connected.\n",
      "HTTP request sent, awaiting response... 200 OK\n",
      "Length: 358233 (350K) [text/tab-separated-values]\n",
      "Saving to: ‘train-data.tsv’\n",
      "\n",
      "\r",
      "train-data.tsv        0%[                    ]       0  --.-KB/s               \r",
      "train-data.tsv      100%[===================>] 349.84K  --.-KB/s    in 0.02s   \n",
      "\n",
      "2023-08-19 06:56:29 (17.1 MB/s) - ‘train-data.tsv’ saved [358233/358233]\n",
      "\n",
      "--2023-08-19 06:56:29--  https://cdn.freecodecamp.org/project-data/sms/valid-data.tsv\n",
      "Resolving cdn.freecodecamp.org (cdn.freecodecamp.org)... 104.26.2.33, 104.26.3.33, 172.67.70.149, ...\n",
      "Connecting to cdn.freecodecamp.org (cdn.freecodecamp.org)|104.26.2.33|:443... connected.\n",
      "HTTP request sent, awaiting response... 200 OK\n",
      "Length: 118774 (116K) [text/tab-separated-values]\n",
      "Saving to: ‘valid-data.tsv’\n",
      "\n",
      "valid-data.tsv      100%[===================>] 115.99K  --.-KB/s    in 0.007s  \n",
      "\n",
      "2023-08-19 06:56:29 (15.8 MB/s) - ‘valid-data.tsv’ saved [118774/118774]\n",
      "\n"
     ]
    }
   ],
   "source": [
    "# get data files\n",
    "!wget https://cdn.freecodecamp.org/project-data/sms/train-data.tsv\n",
    "!wget https://cdn.freecodecamp.org/project-data/sms/valid-data.tsv\n",
    "\n",
    "train_file_path = \"train-data.tsv\"\n",
    "test_file_path = \"valid-data.tsv\""
   ]
  },
  {
   "cell_type": "code",
   "execution_count": null,
   "metadata": {
    "colab": {
     "base_uri": "https://localhost:8080/",
     "height": 206
    },
    "executionInfo": {
     "elapsed": 562,
     "status": "ok",
     "timestamp": 1692428196675,
     "user": {
      "displayName": "Eugene Emelyanov (yemel)",
      "userId": "15307913813243875076"
     },
     "user_tz": -120
    },
    "id": "g_h508FEClxO",
    "outputId": "65ff7089-035c-47fb-ac4d-c86114f049de"
   },
   "outputs": [
    {
     "data": {
      "text/html": [
       "\n",
       "  <div id=\"df-25300e3e-ae43-4ebc-bc1e-038590c6c40a\" class=\"colab-df-container\">\n",
       "    <div>\n",
       "<style scoped>\n",
       "    .dataframe tbody tr th:only-of-type {\n",
       "        vertical-align: middle;\n",
       "    }\n",
       "\n",
       "    .dataframe tbody tr th {\n",
       "        vertical-align: top;\n",
       "    }\n",
       "\n",
       "    .dataframe thead th {\n",
       "        text-align: right;\n",
       "    }\n",
       "</style>\n",
       "<table border=\"1\" class=\"dataframe\">\n",
       "  <thead>\n",
       "    <tr style=\"text-align: right;\">\n",
       "      <th></th>\n",
       "      <th>label</th>\n",
       "      <th>text</th>\n",
       "    </tr>\n",
       "  </thead>\n",
       "  <tbody>\n",
       "    <tr>\n",
       "      <th>0</th>\n",
       "      <td>ham</td>\n",
       "      <td>ahhhh...just woken up!had a bad dream about u ...</td>\n",
       "    </tr>\n",
       "    <tr>\n",
       "      <th>1</th>\n",
       "      <td>ham</td>\n",
       "      <td>you can never do nothing</td>\n",
       "    </tr>\n",
       "    <tr>\n",
       "      <th>2</th>\n",
       "      <td>ham</td>\n",
       "      <td>now u sound like manky scouse boy steve,like! ...</td>\n",
       "    </tr>\n",
       "    <tr>\n",
       "      <th>3</th>\n",
       "      <td>ham</td>\n",
       "      <td>mum say we wan to go then go... then she can s...</td>\n",
       "    </tr>\n",
       "    <tr>\n",
       "      <th>4</th>\n",
       "      <td>ham</td>\n",
       "      <td>never y lei... i v lazy... got wat? dat day ü ...</td>\n",
       "    </tr>\n",
       "  </tbody>\n",
       "</table>\n",
       "</div>\n",
       "    <div class=\"colab-df-buttons\">\n",
       "\n",
       "  <div class=\"colab-df-container\">\n",
       "    <button class=\"colab-df-convert\" onclick=\"convertToInteractive('df-25300e3e-ae43-4ebc-bc1e-038590c6c40a')\"\n",
       "            title=\"Convert this dataframe to an interactive table.\"\n",
       "            style=\"display:none;\">\n",
       "\n",
       "  <svg xmlns=\"http://www.w3.org/2000/svg\" height=\"24px\" viewBox=\"0 -960 960 960\">\n",
       "    <path d=\"M120-120v-720h720v720H120Zm60-500h600v-160H180v160Zm220 220h160v-160H400v160Zm0 220h160v-160H400v160ZM180-400h160v-160H180v160Zm440 0h160v-160H620v160ZM180-180h160v-160H180v160Zm440 0h160v-160H620v160Z\"/>\n",
       "  </svg>\n",
       "    </button>\n",
       "\n",
       "  <style>\n",
       "    .colab-df-container {\n",
       "      display:flex;\n",
       "      gap: 12px;\n",
       "    }\n",
       "\n",
       "    .colab-df-convert {\n",
       "      background-color: #E8F0FE;\n",
       "      border: none;\n",
       "      border-radius: 50%;\n",
       "      cursor: pointer;\n",
       "      display: none;\n",
       "      fill: #1967D2;\n",
       "      height: 32px;\n",
       "      padding: 0 0 0 0;\n",
       "      width: 32px;\n",
       "    }\n",
       "\n",
       "    .colab-df-convert:hover {\n",
       "      background-color: #E2EBFA;\n",
       "      box-shadow: 0px 1px 2px rgba(60, 64, 67, 0.3), 0px 1px 3px 1px rgba(60, 64, 67, 0.15);\n",
       "      fill: #174EA6;\n",
       "    }\n",
       "\n",
       "    .colab-df-buttons div {\n",
       "      margin-bottom: 4px;\n",
       "    }\n",
       "\n",
       "    [theme=dark] .colab-df-convert {\n",
       "      background-color: #3B4455;\n",
       "      fill: #D2E3FC;\n",
       "    }\n",
       "\n",
       "    [theme=dark] .colab-df-convert:hover {\n",
       "      background-color: #434B5C;\n",
       "      box-shadow: 0px 1px 3px 1px rgba(0, 0, 0, 0.15);\n",
       "      filter: drop-shadow(0px 1px 2px rgba(0, 0, 0, 0.3));\n",
       "      fill: #FFFFFF;\n",
       "    }\n",
       "  </style>\n",
       "\n",
       "    <script>\n",
       "      const buttonEl =\n",
       "        document.querySelector('#df-25300e3e-ae43-4ebc-bc1e-038590c6c40a button.colab-df-convert');\n",
       "      buttonEl.style.display =\n",
       "        google.colab.kernel.accessAllowed ? 'block' : 'none';\n",
       "\n",
       "      async function convertToInteractive(key) {\n",
       "        const element = document.querySelector('#df-25300e3e-ae43-4ebc-bc1e-038590c6c40a');\n",
       "        const dataTable =\n",
       "          await google.colab.kernel.invokeFunction('convertToInteractive',\n",
       "                                                    [key], {});\n",
       "        if (!dataTable) return;\n",
       "\n",
       "        const docLinkHtml = 'Like what you see? Visit the ' +\n",
       "          '<a target=\"_blank\" href=https://colab.research.google.com/notebooks/data_table.ipynb>data table notebook</a>'\n",
       "          + ' to learn more about interactive tables.';\n",
       "        element.innerHTML = '';\n",
       "        dataTable['output_type'] = 'display_data';\n",
       "        await google.colab.output.renderOutput(dataTable, element);\n",
       "        const docLink = document.createElement('div');\n",
       "        docLink.innerHTML = docLinkHtml;\n",
       "        element.appendChild(docLink);\n",
       "      }\n",
       "    </script>\n",
       "  </div>\n",
       "\n",
       "\n",
       "<div id=\"df-c7d99fb3-736c-4b6b-8f58-430c8ee19d0c\">\n",
       "  <button class=\"colab-df-quickchart\" onclick=\"quickchart('df-c7d99fb3-736c-4b6b-8f58-430c8ee19d0c')\"\n",
       "            title=\"Suggest charts.\"\n",
       "            style=\"display:none;\">\n",
       "\n",
       "<svg xmlns=\"http://www.w3.org/2000/svg\" height=\"24px\"viewBox=\"0 0 24 24\"\n",
       "     width=\"24px\">\n",
       "    <g>\n",
       "        <path d=\"M19 3H5c-1.1 0-2 .9-2 2v14c0 1.1.9 2 2 2h14c1.1 0 2-.9 2-2V5c0-1.1-.9-2-2-2zM9 17H7v-7h2v7zm4 0h-2V7h2v10zm4 0h-2v-4h2v4z\"/>\n",
       "    </g>\n",
       "</svg>\n",
       "  </button>\n",
       "\n",
       "<style>\n",
       "  .colab-df-quickchart {\n",
       "    background-color: #E8F0FE;\n",
       "    border: none;\n",
       "    border-radius: 50%;\n",
       "    cursor: pointer;\n",
       "    display: none;\n",
       "    fill: #1967D2;\n",
       "    height: 32px;\n",
       "    padding: 0 0 0 0;\n",
       "    width: 32px;\n",
       "  }\n",
       "\n",
       "  .colab-df-quickchart:hover {\n",
       "    background-color: #E2EBFA;\n",
       "    box-shadow: 0px 1px 2px rgba(60, 64, 67, 0.3), 0px 1px 3px 1px rgba(60, 64, 67, 0.15);\n",
       "    fill: #174EA6;\n",
       "  }\n",
       "\n",
       "  [theme=dark] .colab-df-quickchart {\n",
       "    background-color: #3B4455;\n",
       "    fill: #D2E3FC;\n",
       "  }\n",
       "\n",
       "  [theme=dark] .colab-df-quickchart:hover {\n",
       "    background-color: #434B5C;\n",
       "    box-shadow: 0px 1px 3px 1px rgba(0, 0, 0, 0.15);\n",
       "    filter: drop-shadow(0px 1px 2px rgba(0, 0, 0, 0.3));\n",
       "    fill: #FFFFFF;\n",
       "  }\n",
       "</style>\n",
       "\n",
       "  <script>\n",
       "    async function quickchart(key) {\n",
       "      const charts = await google.colab.kernel.invokeFunction(\n",
       "          'suggestCharts', [key], {});\n",
       "    }\n",
       "    (() => {\n",
       "      let quickchartButtonEl =\n",
       "        document.querySelector('#df-c7d99fb3-736c-4b6b-8f58-430c8ee19d0c button');\n",
       "      quickchartButtonEl.style.display =\n",
       "        google.colab.kernel.accessAllowed ? 'block' : 'none';\n",
       "    })();\n",
       "  </script>\n",
       "</div>\n",
       "    </div>\n",
       "  </div>\n"
      ],
      "text/plain": [
       "  label                                               text\n",
       "0   ham  ahhhh...just woken up!had a bad dream about u ...\n",
       "1   ham                           you can never do nothing\n",
       "2   ham  now u sound like manky scouse boy steve,like! ...\n",
       "3   ham  mum say we wan to go then go... then she can s...\n",
       "4   ham  never y lei... i v lazy... got wat? dat day ü ..."
      ]
     },
     "execution_count": 3,
     "metadata": {},
     "output_type": "execute_result"
    }
   ],
   "source": [
    "# Load the training dataset\n",
    "train_df = pd.read_table(train_file_path, names=['label', 'text'])\n",
    "train_df.head()"
   ]
  },
  {
   "cell_type": "code",
   "execution_count": null,
   "metadata": {
    "colab": {
     "base_uri": "https://localhost:8080/"
    },
    "executionInfo": {
     "elapsed": 529,
     "status": "ok",
     "timestamp": 1692428202116,
     "user": {
      "displayName": "Eugene Emelyanov (yemel)",
      "userId": "15307913813243875076"
     },
     "user_tz": -120
    },
    "id": "zOMKywn4zReN",
    "outputId": "9fbd4fa0-bf5e-4482-8560-4d5f651b6513"
   },
   "outputs": [
    {
     "data": {
      "text/plain": [
       "ham     3619\n",
       "spam     560\n",
       "Name: label, dtype: int64"
      ]
     },
     "execution_count": 4,
     "metadata": {},
     "output_type": "execute_result"
    }
   ],
   "source": [
    "# We need to know how well the dataset is balanced\n",
    "train_df['label'].value_counts()"
   ]
  },
  {
   "cell_type": "code",
   "execution_count": null,
   "metadata": {
    "colab": {
     "base_uri": "https://localhost:8080/",
     "height": 470
    },
    "executionInfo": {
     "elapsed": 1287,
     "status": "ok",
     "timestamp": 1692428224664,
     "user": {
      "displayName": "Eugene Emelyanov (yemel)",
      "userId": "15307913813243875076"
     },
     "user_tz": -120
    },
    "id": "-UhFnaobi9BD",
    "outputId": "0d2f9594-a0ec-4936-a8f8-4c7c548b6211"
   },
   "outputs": [
    {
     "data": {
      "text/plain": [
       "Text(0.5, 1.0, 'Number of labeled messages')"
      ]
     },
     "execution_count": 6,
     "metadata": {},
     "output_type": "execute_result"
    },
    {
     "data": {
      "image/png": "[encoded data removed]",
      "text/plain": [
       "<Figure size 640x480 with 1 Axes>"
      ]
     },
     "metadata": {},
     "output_type": "display_data"
    }
   ],
   "source": [
    "# It looks like we have quite unbalanced dataset\n",
    "count = train_df['label'].value_counts()\n",
    "plt.bar(count.index, count )\n",
    "plt.title('Number of labeled messages')"
   ]
  },
  {
   "cell_type": "code",
   "execution_count": null,
   "metadata": {
    "colab": {
     "base_uri": "https://localhost:8080/"
    },
    "executionInfo": {
     "elapsed": 419,
     "status": "ok",
     "timestamp": 1692428237531,
     "user": {
      "displayName": "Eugene Emelyanov (yemel)",
      "userId": "15307913813243875076"
     },
     "user_tz": -120
    },
    "id": "K2hS_rnRdrNT",
    "outputId": "2f48d24a-e7ef-448c-912d-6af78c37ef15"
   },
   "outputs": [
    {
     "data": {
      "text/plain": [
       "ham     1205\n",
       "spam     187\n",
       "Name: label, dtype: int64"
      ]
     },
     "execution_count": 7,
     "metadata": {},
     "output_type": "execute_result"
    }
   ],
   "source": [
    "# Load testing dataset\n",
    "test_df = pd.read_table(test_file_path, names=['label', 'text'])\n",
    "test_df['label'].value_counts()"
   ]
  },
  {
   "cell_type": "code",
   "execution_count": null,
   "metadata": {
    "colab": {
     "base_uri": "https://localhost:8080/"
    },
    "executionInfo": {
     "elapsed": 8991,
     "status": "ok",
     "timestamp": 1692428258598,
     "user": {
      "displayName": "Eugene Emelyanov (yemel)",
      "userId": "15307913813243875076"
     },
     "user_tz": -120
    },
    "id": "JFHIHOZbdri_",
    "outputId": "27a738fa-47f7-40cf-bf2d-6cf3db4a1206"
   },
   "outputs": [
    {
     "name": "stdout",
     "output_type": "stream",
     "text": [
      "Tokens:  ['ahhhh', '...', 'just', 'woken', 'up!had', 'a', 'bad', 'dream', 'about', 'u', 'tho', ',', 'so', 'i', 'do', 'nt', 'like', 'u', 'right', 'now', ':)', 'i', 'did', 'nt', 'know', 'anything', 'about', 'comedy', 'night', 'but', 'i', 'guess', 'i', 'm', 'up', 'for', 'it', '.']\n",
      "Vocabulary size:  3623\n"
     ]
    }
   ],
   "source": [
    "# Define the tokenizer\n",
    "def get_tokens(data):\n",
    "    for text in data:\n",
    "        yield tokenizer(text)\n",
    "tokenizer = get_tokenizer('spacy', language='en_core_web_sm')\n",
    "\n",
    "# Build the vocabulary\n",
    "vocab = build_vocab_from_iterator(get_tokens(train_df['text']), specials=['<unk>'], min_freq=2)\n",
    "vocab.set_default_index(vocab['<unk>'])\n",
    "vocab_size = len(vocab)\n",
    "\n",
    "# Calculate max sequence length\n",
    "max_sequence_len = train_df['text'].apply( lambda x: len( tokenizer(x) ) ).max()\n",
    "\n",
    "# Check tokenizer\n",
    "with torch.no_grad():\n",
    "    text = train_df.loc[0, 'text']\n",
    "    tokens = tokenizer(text)\n",
    "    print('Tokens: ', tokens)\n",
    "    print('Vocabulary size: ', vocab_size)"
   ]
  },
  {
   "cell_type": "code",
   "execution_count": null,
   "metadata": {
    "colab": {
     "base_uri": "https://localhost:8080/"
    },
    "executionInfo": {
     "elapsed": 1210,
     "status": "ok",
     "timestamp": 1692428262872,
     "user": {
      "displayName": "Eugene Emelyanov (yemel)",
      "userId": "15307913813243875076"
     },
     "user_tz": -120
    },
    "id": "T1aseD1Ddrr5",
    "outputId": "6f9a97e7-7641-46e3-b41f-8c5c665f3e4a"
   },
   "outputs": [
    {
     "name": "stdout",
     "output_type": "stream",
     "text": [
      "Sample Data: tensor([   0,   10,   47, 3589,    0,    7,  427,  826,   95,   11,  864,    5,\n",
      "          34,    2,   20,   52,   71,   11,  183,   30,  110,    2,   89,   52,\n",
      "          69,  187,   95, 1662,  130,   33,    2,  332,    2,  155,   55,   18,\n",
      "          17,    1])\n",
      "Sample Label: tensor(0)\n",
      "Data Shape: torch.Size([64, 70])\n",
      "Labels Shape: torch.Size([64])\n",
      "Data Shape: torch.Size([64, 42])\n",
      "Labels Shape: torch.Size([64])\n",
      "Data Shape: torch.Size([64, 42])\n",
      "Labels Shape: torch.Size([64])\n",
      "Data Shape: torch.Size([64, 68])\n",
      "Labels Shape: torch.Size([64])\n",
      "Data Shape: torch.Size([64, 40])\n",
      "Labels Shape: torch.Size([64])\n",
      "Data Shape: torch.Size([64, 41])\n",
      "Labels Shape: torch.Size([64])\n",
      "Data Shape: torch.Size([64, 175])\n",
      "Labels Shape: torch.Size([64])\n",
      "Data Shape: torch.Size([64, 43])\n",
      "Labels Shape: torch.Size([64])\n",
      "Data Shape: torch.Size([64, 146])\n",
      "Labels Shape: torch.Size([64])\n",
      "Data Shape: torch.Size([64, 166])\n",
      "Labels Shape: torch.Size([64])\n",
      "Data Shape: torch.Size([64, 47])\n",
      "Labels Shape: torch.Size([64])\n",
      "Data Shape: torch.Size([64, 94])\n",
      "Labels Shape: torch.Size([64])\n",
      "Data Shape: torch.Size([64, 43])\n",
      "Labels Shape: torch.Size([64])\n",
      "Data Shape: torch.Size([64, 56])\n",
      "Labels Shape: torch.Size([64])\n",
      "Data Shape: torch.Size([64, 70])\n",
      "Labels Shape: torch.Size([64])\n",
      "Data Shape: torch.Size([64, 70])\n",
      "Labels Shape: torch.Size([64])\n",
      "Data Shape: torch.Size([64, 87])\n",
      "Labels Shape: torch.Size([64])\n",
      "Data Shape: torch.Size([64, 41])\n",
      "Labels Shape: torch.Size([64])\n",
      "Data Shape: torch.Size([64, 112])\n",
      "Labels Shape: torch.Size([64])\n",
      "Data Shape: torch.Size([64, 41])\n",
      "Labels Shape: torch.Size([64])\n",
      "Data Shape: torch.Size([64, 74])\n",
      "Labels Shape: torch.Size([64])\n",
      "Data Shape: torch.Size([64, 81])\n",
      "Labels Shape: torch.Size([64])\n",
      "Data Shape: torch.Size([64, 72])\n",
      "Labels Shape: torch.Size([64])\n",
      "Data Shape: torch.Size([64, 49])\n",
      "Labels Shape: torch.Size([64])\n",
      "Data Shape: torch.Size([64, 50])\n",
      "Labels Shape: torch.Size([64])\n",
      "Data Shape: torch.Size([64, 38])\n",
      "Labels Shape: torch.Size([64])\n",
      "Data Shape: torch.Size([64, 47])\n",
      "Labels Shape: torch.Size([64])\n",
      "Data Shape: torch.Size([64, 38])\n",
      "Labels Shape: torch.Size([64])\n",
      "Data Shape: torch.Size([64, 112])\n",
      "Labels Shape: torch.Size([64])\n",
      "Data Shape: torch.Size([64, 72])\n",
      "Labels Shape: torch.Size([64])\n",
      "Data Shape: torch.Size([64, 61])\n",
      "Labels Shape: torch.Size([64])\n",
      "Data Shape: torch.Size([64, 46])\n",
      "Labels Shape: torch.Size([64])\n",
      "Data Shape: torch.Size([64, 82])\n",
      "Labels Shape: torch.Size([64])\n",
      "Data Shape: torch.Size([64, 77])\n",
      "Labels Shape: torch.Size([64])\n",
      "Data Shape: torch.Size([64, 55])\n",
      "Labels Shape: torch.Size([64])\n",
      "Data Shape: torch.Size([64, 43])\n",
      "Labels Shape: torch.Size([64])\n",
      "Data Shape: torch.Size([64, 196])\n",
      "Labels Shape: torch.Size([64])\n",
      "Data Shape: torch.Size([64, 39])\n",
      "Labels Shape: torch.Size([64])\n",
      "Data Shape: torch.Size([64, 74])\n",
      "Labels Shape: torch.Size([64])\n",
      "Data Shape: torch.Size([64, 40])\n",
      "Labels Shape: torch.Size([64])\n",
      "Data Shape: torch.Size([64, 154])\n",
      "Labels Shape: torch.Size([64])\n",
      "Data Shape: torch.Size([64, 55])\n",
      "Labels Shape: torch.Size([64])\n",
      "Data Shape: torch.Size([64, 41])\n",
      "Labels Shape: torch.Size([64])\n",
      "Data Shape: torch.Size([64, 52])\n",
      "Labels Shape: torch.Size([64])\n",
      "Data Shape: torch.Size([64, 92])\n",
      "Labels Shape: torch.Size([64])\n",
      "Data Shape: torch.Size([64, 69])\n",
      "Labels Shape: torch.Size([64])\n",
      "Data Shape: torch.Size([64, 55])\n",
      "Labels Shape: torch.Size([64])\n",
      "Data Shape: torch.Size([64, 95])\n",
      "Labels Shape: torch.Size([64])\n",
      "Data Shape: torch.Size([64, 65])\n",
      "Labels Shape: torch.Size([64])\n",
      "Data Shape: torch.Size([64, 95])\n",
      "Labels Shape: torch.Size([64])\n",
      "Data Shape: torch.Size([64, 55])\n",
      "Labels Shape: torch.Size([64])\n",
      "Data Shape: torch.Size([64, 89])\n",
      "Labels Shape: torch.Size([64])\n",
      "Data Shape: torch.Size([64, 89])\n",
      "Labels Shape: torch.Size([64])\n",
      "Data Shape: torch.Size([64, 39])\n",
      "Labels Shape: torch.Size([64])\n",
      "Data Shape: torch.Size([64, 41])\n",
      "Labels Shape: torch.Size([64])\n",
      "Data Shape: torch.Size([64, 56])\n",
      "Labels Shape: torch.Size([64])\n",
      "Data Shape: torch.Size([64, 68])\n",
      "Labels Shape: torch.Size([64])\n",
      "Data Shape: torch.Size([64, 42])\n",
      "Labels Shape: torch.Size([64])\n",
      "Data Shape: torch.Size([64, 56])\n",
      "Labels Shape: torch.Size([64])\n",
      "Data Shape: torch.Size([64, 44])\n",
      "Labels Shape: torch.Size([64])\n",
      "Data Shape: torch.Size([64, 52])\n",
      "Labels Shape: torch.Size([64])\n",
      "Data Shape: torch.Size([64, 40])\n",
      "Labels Shape: torch.Size([64])\n",
      "Data Shape: torch.Size([64, 82])\n",
      "Labels Shape: torch.Size([64])\n",
      "Data Shape: torch.Size([64, 154])\n",
      "Labels Shape: torch.Size([64])\n",
      "Data Shape: torch.Size([64, 69])\n",
      "Labels Shape: torch.Size([64])\n",
      "Data Shape: torch.Size([19, 39])\n",
      "Labels Shape: torch.Size([19])\n"
     ]
    }
   ],
   "source": [
    "# Define our Dataset class\n",
    "class SMSDataset(Dataset):\n",
    "    def __init__(self, file_path, tokenizer, vocab):\n",
    "        self.data = []\n",
    "        with open(file_path, 'r', encoding='utf-8') as file:\n",
    "            for line in file:\n",
    "                label, text = line.strip().split('\\t')\n",
    "                self.data.append((label, text))\n",
    "        self.tokenizer = tokenizer\n",
    "        self.vocab = vocab\n",
    "\n",
    "    def __len__(self):\n",
    "        return len(self.data)\n",
    "\n",
    "    def __getitem__(self, index):\n",
    "        label, text = self.data[index]\n",
    "        encoded_label = 1 if label == 'spam' else 0\n",
    "        tokens = self.tokenizer(text)\n",
    "        numerical_tokens = [self.vocab[token] for token in tokens]\n",
    "\n",
    "        return torch.tensor(numerical_tokens), torch.tensor(encoded_label)\n",
    "\n",
    "    # to ensure that all batches have the same size\n",
    "    def collate_fn(self, batch):\n",
    "        data, labels = zip(*batch)\n",
    "\n",
    "        # Pad data and labels to the same length\n",
    "        padded_data = pad_sequence(data, batch_first=True)\n",
    "        padded_labels = torch.tensor(labels)\n",
    "\n",
    "        return padded_data, padded_labels\n",
    "\n",
    "# Create our training and testing datasets\n",
    "train_data = SMSDataset(train_file_path, tokenizer, vocab)\n",
    "test_data = SMSDataset(test_file_path, tokenizer, vocab)\n",
    "\n",
    "# Check sampling and batching. Make sure that all batches have the same size\n",
    "with torch.no_grad():\n",
    "    batch_size = 64\n",
    "    data, label = train_data[0]\n",
    "    print(\"Sample Data:\", data)\n",
    "    print(\"Sample Label:\", label)\n",
    "    data_loader = DataLoader(train_data,\n",
    "                              batch_size=batch_size,\n",
    "                              shuffle=True,\n",
    "                              collate_fn=train_data.collate_fn)\n",
    "    for data, labels in data_loader:\n",
    "        print('Data Shape:', data.shape)\n",
    "        #print('Data Items Shape:', [data.shape for data in data])\n",
    "        print(\"Labels Shape:\", labels.shape)"
   ]
  },
  {
   "cell_type": "code",
   "execution_count": null,
   "metadata": {
    "colab": {
     "base_uri": "https://localhost:8080/"
    },
    "executionInfo": {
     "elapsed": 1100,
     "status": "ok",
     "timestamp": 1692428275557,
     "user": {
      "displayName": "Eugene Emelyanov (yemel)",
      "userId": "15307913813243875076"
     },
     "user_tz": -120
    },
    "id": "HN8AfAVveKAw",
    "outputId": "1dfa6cd1-e550-4ab3-8edd-0099040c4d79"
   },
   "outputs": [
    {
     "name": "stdout",
     "output_type": "stream",
     "text": [
      "TextClassifier(\n",
      "  (embedding): Embedding(3623, 100)\n",
      "  (lstm): LSTM(100, 256, num_layers=2, batch_first=True, bidirectional=True)\n",
      "  (fc): Linear(in_features=512, out_features=1, bias=True)\n",
      "  (dropout): Dropout(p=0.3, inplace=False)\n",
      ")\n",
      "Predictions Shapes: torch.Size([64]) Labels: torch.Size([64])\n",
      "Predictions DataTypes: torch.float32 Labels: torch.float32\n"
     ]
    }
   ],
   "source": [
    "# For simplicity, let's use an LSTM-based model\n",
    "class TextClassifier(nn.Module):\n",
    "    def __init__(self, vocab_size,\n",
    "                 embedding_dim,\n",
    "                 hidden_dim,\n",
    "                 output_dim,\n",
    "                 n_layers,\n",
    "                 bidirectional):\n",
    "        super(TextClassifier, self).__init__()\n",
    "        self.embedding = nn.Embedding(vocab_size, embedding_dim)\n",
    "        self.lstm = nn.LSTM(embedding_dim,\n",
    "                            hidden_dim,\n",
    "                            num_layers=n_layers,\n",
    "                            bidirectional=bidirectional,\n",
    "                            batch_first=True\n",
    "                           )\n",
    "        self.fc = nn.Linear(hidden_dim * 2, output_dim)\n",
    "        self.dropout = nn.Dropout(0.3)\n",
    "\n",
    "    def forward(self, text):\n",
    "        embedded = self.dropout( self.embedding(text) )\n",
    "        output, (hidden, cell) = self.lstm(embedded)\n",
    "        hidden = self.dropout(torch.cat((hidden[-2,:,:], hidden[-1,:,:]), dim=1))\n",
    "        return self.fc(hidden)\n",
    "\n",
    "# Initializer the model\n",
    "model = TextClassifier( vocab_size,\n",
    "                       embedding_dim=100,\n",
    "                       hidden_dim=256,\n",
    "                       output_dim=1,\n",
    "                       n_layers=2,\n",
    "                       bidirectional=True\n",
    "                      )\n",
    "# Check model summary\n",
    "print(model)\n",
    "\n",
    "# Set the model to evaluation mode\n",
    "model.eval()\n",
    "\n",
    "# Make sure that the model output and labels have the same shape and datatypes\n",
    "with torch.no_grad():\n",
    "    batch_size = 64\n",
    "    data_loader = DataLoader(train_data,\n",
    "                              batch_size=batch_size,\n",
    "                              shuffle=True,\n",
    "                              collate_fn=train_data.collate_fn)\n",
    "    data, labels = next(iter(data_loader))\n",
    "    predictions = model(data).squeeze(1)\n",
    "    labels = labels.float()\n",
    "    print(\"Predictions Shapes:\", predictions.shape, \"Labels:\", labels.shape)\n",
    "    print(\"Predictions DataTypes:\", predictions.dtype, \"Labels:\", labels.dtype)"
   ]
  },
  {
   "cell_type": "code",
   "execution_count": null,
   "metadata": {
    "colab": {
     "base_uri": "https://localhost:8080/"
    },
    "executionInfo": {
     "elapsed": 4568,
     "status": "ok",
     "timestamp": 1692428292941,
     "user": {
      "displayName": "Eugene Emelyanov (yemel)",
      "userId": "15307913813243875076"
     },
     "user_tz": -120
    },
    "id": "f-72A0w-eQpx",
    "outputId": "9069f5e5-dba9-4256-bbfc-dea9990a4e12"
   },
   "outputs": [
    {
     "name": "stdout",
     "output_type": "stream",
     "text": [
      "Device: cpu\n",
      "Class weights: tensor(6.4625)\n",
      "Average Loss: 0.0973\n"
     ]
    }
   ],
   "source": [
    "# Prepare the model for training\n",
    "device = torch.device('cuda' if torch.cuda.is_available() else 'cpu')\n",
    "model.to(device)\n",
    "\n",
    "# Define hyperparameters\n",
    "num_folds = 5\n",
    "num_epochs = 5\n",
    "batch_size = 128\n",
    "learn_rate = 0.001\n",
    "weight_decay = 0\n",
    "\n",
    "# Calculate imbalance ratios between \"ham\" and spam\n",
    "ham_count, spam_count = train_df['label'].value_counts()\n",
    "spam_ratio = spam_count / ham_count\n",
    "ham_ratio = ham_count / spam_count\n",
    "\n",
    "# Define class weights. We do it because we have quite unbalanced dataset\n",
    "class_weights = torch.tensor(1.0/ spam_ratio).to(device)\n",
    "\n",
    "# Define the loss function\n",
    "loss_function = nn.BCEWithLogitsLoss(pos_weight=class_weights)\n",
    "\n",
    "# Initialize KFold\n",
    "kf = KFold(n_splits=num_folds, shuffle=True, random_state=42)\n",
    "\n",
    "# Check that everything is set\n",
    "print(\"Device:\", device)\n",
    "print(\"Class weights:\", class_weights)\n",
    "\n",
    "# Make sure that our loss function works well\n",
    "with torch.no_grad():\n",
    "    model.eval() # Set the model to evaluation mode\n",
    "    batch_size = 64\n",
    "    data_loader = DataLoader(train_data,\n",
    "                              batch_size=batch_size,\n",
    "                              shuffle=True,\n",
    "                              collate_fn=train_data.collate_fn)\n",
    "    total_loss = 0.0\n",
    "    for _ in range(5):\n",
    "        data, labels = next( iter(data_loader) )\n",
    "        data, labels = data.to(device), labels.to(device)\n",
    "        predictions = model(data)\n",
    "        total_loss += loss_function(predictions.squeeze(), labels.float()).item()\n",
    "    average_loss = total_loss / len(data_loader)\n",
    "    print(f'Average Loss: {average_loss:.4f}')"
   ]
  },
  {
   "cell_type": "code",
   "execution_count": null,
   "metadata": {
    "colab": {
     "base_uri": "https://localhost:8080/"
    },
    "executionInfo": {
     "elapsed": 2651591,
     "status": "ok",
     "timestamp": 1692430965238,
     "user": {
      "displayName": "Eugene Emelyanov (yemel)",
      "userId": "15307913813243875076"
     },
     "user_tz": -120
    },
    "id": "-ZRzOSC9eeoE",
    "outputId": "b9eb52c0-98eb-40c3-c5a6-397b34269bfc"
   },
   "outputs": [
    {
     "name": "stdout",
     "output_type": "stream",
     "text": [
      "Fold 1, Epoch [1/5], Train Loss: 0.7363, Validation Loss: 0.4175\n",
      "Fold 1, Epoch [2/5], Train Loss: 0.3784, Validation Loss: 0.3626\n",
      "Fold 1, Epoch [3/5], Train Loss: 0.2991, Validation Loss: 0.3653\n",
      "Fold 1, Epoch [4/5], Train Loss: 0.2267, Validation Loss: 0.3707\n",
      "Fold 1, Epoch [5/5], Train Loss: 0.1968, Validation Loss: 0.2911\n",
      "Fold 2, Epoch [1/5], Train Loss: 0.1958, Validation Loss: 0.1038\n",
      "Fold 2, Epoch [2/5], Train Loss: 0.1499, Validation Loss: 0.0871\n",
      "Fold 2, Epoch [3/5], Train Loss: 0.1285, Validation Loss: 0.0811\n",
      "Fold 2, Epoch [4/5], Train Loss: 0.0930, Validation Loss: 0.1458\n",
      "Fold 2, Epoch [5/5], Train Loss: 0.0983, Validation Loss: 0.1093\n",
      "Fold 3, Epoch [1/5], Train Loss: 0.1508, Validation Loss: 0.0373\n",
      "Fold 3, Epoch [2/5], Train Loss: 0.0771, Validation Loss: 0.0464\n",
      "Fold 3, Epoch [3/5], Train Loss: 0.0691, Validation Loss: 0.0540\n",
      "Fold 3, Epoch [4/5], Train Loss: 0.0409, Validation Loss: 0.0461\n",
      "Fold 3, Epoch [5/5], Train Loss: 0.0424, Validation Loss: 0.0577\n",
      "Fold 4, Epoch [1/5], Train Loss: 0.0744, Validation Loss: 0.0104\n",
      "Fold 4, Epoch [2/5], Train Loss: 0.0411, Validation Loss: 0.0042\n",
      "Fold 4, Epoch [3/5], Train Loss: 0.0382, Validation Loss: 0.0539\n",
      "Fold 4, Epoch [4/5], Train Loss: 0.0466, Validation Loss: 0.0167\n",
      "Fold 4, Epoch [5/5], Train Loss: 0.0595, Validation Loss: 0.0208\n",
      "Fold 5, Epoch [1/5], Train Loss: 0.0429, Validation Loss: 0.0233\n",
      "Fold 5, Epoch [2/5], Train Loss: 0.0346, Validation Loss: 0.0280\n",
      "Fold 5, Epoch [3/5], Train Loss: 0.0209, Validation Loss: 0.0084\n",
      "Fold 5, Epoch [4/5], Train Loss: 0.0059, Validation Loss: 0.0174\n",
      "Fold 5, Epoch [5/5], Train Loss: 0.0171, Validation Loss: 0.0258\n"
     ]
    }
   ],
   "source": [
    "def train_one_epoch(model, dataloader, optimizer, loss_function, device):\n",
    "    model.train()\n",
    "    total_loss = 0.0\n",
    "    for data, labels in dataloader:\n",
    "        data, labels = data.to(device), labels.to(device)\n",
    "        optimizer.zero_grad()\n",
    "        predictions = model(data)\n",
    "        batch_loss = loss_function(predictions.squeeze(1), labels.float())\n",
    "        batch_loss.backward()\n",
    "        optimizer.step()\n",
    "        total_loss += batch_loss.item()\n",
    "    return total_loss / len(dataloader)\n",
    "\n",
    "def validate(model, dataloader, loss_function, device):\n",
    "    model.eval()\n",
    "    total_loss = 0.0\n",
    "    with torch.no_grad():\n",
    "        for data, labels in dataloader:\n",
    "            data, labels = data.to(device), labels.to(device)\n",
    "            predictions = model(data)\n",
    "            total_loss += loss_function(predictions.squeeze(1), labels.float()).item()\n",
    "    return total_loss / len(dataloader)\n",
    "\n",
    "# Cross-validation loop\n",
    "for fold, (train_indices, val_indices) in enumerate( kf.split(range(len(train_data))) ):\n",
    "    train_data_fold = Subset(train_data, train_indices)\n",
    "    val_data_fold = Subset(train_data, val_indices)\n",
    "\n",
    "    train_loader_fold = DataLoader(train_data_fold,\n",
    "                                       batch_size=batch_size,\n",
    "                                       shuffle=True,\n",
    "                                       collate_fn=train_data.collate_fn)\n",
    "    val_loader_fold = DataLoader(val_data_fold,\n",
    "                                     batch_size=batch_size,\n",
    "                                     shuffle=False,\n",
    "                                     collate_fn=train_data.collate_fn)\n",
    "\n",
    "    # Initialize optimizer\n",
    "    optimizer = optim.Adam( model.parameters(), lr=learn_rate, weight_decay=weight_decay)\n",
    "\n",
    "    # Training loop\n",
    "    for epoch in range(num_epochs):\n",
    "        train_loss = train_one_epoch(model,\n",
    "                                     train_loader_fold,\n",
    "                                     optimizer,\n",
    "                                     loss_function,\n",
    "                                     device)\n",
    "        val_loss = validate(model,\n",
    "                            val_loader_fold,\n",
    "                            loss_function,\n",
    "                            device)\n",
    "        print(f'Fold {fold+1}, Epoch [{epoch+1}/{num_epochs}],',\n",
    "              f'Train Loss: {train_loss:.4f}, Validation Loss: {val_loss:.4f}')"
   ]
  },
  {
   "cell_type": "code",
   "execution_count": null,
   "metadata": {
    "colab": {
     "base_uri": "https://localhost:8080/"
    },
    "executionInfo": {
     "elapsed": 20168,
     "status": "ok",
     "timestamp": 1692430990978,
     "user": {
      "displayName": "Eugene Emelyanov (yemel)",
      "userId": "15307913813243875076"
     },
     "user_tz": -120
    },
    "id": "3LqKTZsvgwoQ",
    "outputId": "8b1e8935-6bdb-4751-efb3-36948b2ea585"
   },
   "outputs": [
    {
     "name": "stdout",
     "output_type": "stream",
     "text": [
      "Accuracy: 0.9763\n",
      "Precission:  0.8812\n",
      "Recall: 0.9519\n",
      "F1-score: 0.9152\n"
     ]
    }
   ],
   "source": [
    "# Test the model\n",
    "test_loader = DataLoader(test_data,\n",
    "                        batch_size=batch_size,\n",
    "                        shuffle=True,\n",
    "                        collate_fn=test_data.collate_fn)\n",
    "model.eval()\n",
    "with torch.no_grad():\n",
    "    true_labels = np.array([])\n",
    "    pred_labels = np.array([])\n",
    "\n",
    "    for data, labels in test_loader:\n",
    "        data, labels = data.to(device), labels.to(device)\n",
    "        predictions = model(data).squeeze(1)\n",
    "        rounded_preds = torch.round( torch.sigmoid(predictions) )\n",
    "        true_labels = np.concatenate(( true_labels, labels.cpu().numpy() ))\n",
    "        pred_labels = np.concatenate(( pred_labels, rounded_preds.cpu().numpy() ))\n",
    "\n",
    "    # Calculate metrics\n",
    "    accuracy = accuracy_score(true_labels, pred_labels)\n",
    "    precision = precision_score(true_labels, pred_labels)\n",
    "    recall = recall_score(true_labels, pred_labels)\n",
    "    f1 = f1_score(true_labels, pred_labels)\n",
    "\n",
    "    print(f'Accuracy: {accuracy:.4f}')\n",
    "    print(f'Precission: {precision: .4f}')\n",
    "    print(f'Recall: {recall:.4f}')\n",
    "    print(f'F1-score: {f1:.4f}')"
   ]
  },
  {
   "cell_type": "code",
   "execution_count": null,
   "metadata": {
    "colab": {
     "base_uri": "https://localhost:8080/"
    },
    "executionInfo": {
     "elapsed": 449,
     "status": "ok",
     "timestamp": 1692431035041,
     "user": {
      "displayName": "Eugene Emelyanov (yemel)",
      "userId": "15307913813243875076"
     },
     "user_tz": -120
    },
    "id": "J9tD9yACG6M9",
    "outputId": "29176dba-df2f-41a7-a0a1-92afebce78eb"
   },
   "outputs": [
    {
     "name": "stdout",
     "output_type": "stream",
     "text": [
      "[0.018541013821959496, 'ham']\n"
     ]
    }
   ],
   "source": [
    "# function to predict messages based on model\n",
    "# (should return list containing prediction and label, ex. [0.008318834938108921, 'ham'])\n",
    "def predict_message(pred_text):\n",
    "    model.eval()\n",
    "\n",
    "    # Tokenize the input text\n",
    "    tokens = tokenizer(pred_text)\n",
    "    numerical_tokens = [vocab[token] for token in tokens]\n",
    "\n",
    "    # Convert to a tensor and make a prediction\n",
    "    data = torch.tensor([numerical_tokens]).to(device)\n",
    "    with torch.no_grad():\n",
    "        prediction = torch.sigmoid(model(data)).item()\n",
    "    # Determine the label based on the prediction\n",
    "    label = 'spam' if prediction >= 0.5 else 'ham'\n",
    "\n",
    "    return [prediction, label]\n",
    "\n",
    "\n",
    "pred_text = \"how are you doing today?\"\n",
    "\n",
    "prediction = predict_message(pred_text)\n",
    "print(prediction)"
   ]
  },
  {
   "cell_type": "code",
   "execution_count": null,
   "metadata": {
    "colab": {
     "base_uri": "https://localhost:8080/"
    },
    "executionInfo": {
     "elapsed": 332,
     "status": "ok",
     "timestamp": 1692431041752,
     "user": {
      "displayName": "Eugene Emelyanov (yemel)",
      "userId": "15307913813243875076"
     },
     "user_tz": -120
    },
    "id": "Dxotov85SjsC",
    "outputId": "e8bac6c3-7826-4b5d-9dbf-3ee3f25ee8df"
   },
   "outputs": [
    {
     "name": "stdout",
     "output_type": "stream",
     "text": [
      "You passed the challenge. Great job!\n"
     ]
    }
   ],
   "source": [
    "# Run this cell to test your function and model. Do not modify contents.\n",
    "def test_predictions():\n",
    "  test_messages = [\"how are you doing today\",\n",
    "                   \"sale today! to stop texts call 98912460324\",\n",
    "                   \"i dont want to go. can we try it a different day? available sat\",\n",
    "                   \"our new mobile video service is live. just install on your phone to start watching.\",\n",
    "                   \"you have won £1000 cash! call to claim your prize.\",\n",
    "                   \"i'll bring it tomorrow. don't forget the milk.\",\n",
    "                   \"wow, is your arm alright. that happened to me one time too\"\n",
    "                  ]\n",
    "\n",
    "  test_answers = [\"ham\", \"spam\", \"ham\", \"spam\", \"spam\", \"ham\", \"ham\"]\n",
    "  passed = True\n",
    "\n",
    "  for msg, ans in zip(test_messages, test_answers):\n",
    "    prediction = predict_message(msg)\n",
    "    if prediction[1] != ans:\n",
    "      passed = False\n",
    "\n",
    "  if passed:\n",
    "    print(\"You passed the challenge. Great job!\")\n",
    "  else:\n",
    "    print(\"You haven't passed yet. Keep trying.\")\n",
    "\n",
    "test_predictions()\n"
   ]
  }
 ],
 "metadata": {
  "accelerator": "GPU",
  "colab": {
   "gpuType": "T4",
   "provenance": [
    {
     "file_id": "https://github.com/freeCodeCamp/boilerplate-neural-network-sms-text-classifier/blob/master/fcc_sms_text_classification.ipynb",
     "timestamp": 1692106044479
    }
   ]
  },
  "kernelspec": {
   "display_name": "Python 3 (ipykernel)",
   "language": "python",
   "name": "python3"
  },
  "language_info": {
   "codemirror_mode": {
    "name": "ipython",
    "version": 3
   },
   "file_extension": ".py",
   "mimetype": "text/x-python",
   "name": "python",
   "nbconvert_exporter": "python",
   "pygments_lexer": "ipython3",
   "version": "3.11.2"
  }
 },
 "nbformat": 4,
 "nbformat_minor": 4
}
